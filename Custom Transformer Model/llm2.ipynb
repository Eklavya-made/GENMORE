{
 "cells": [
  {
   "cell_type": "code",
   "execution_count": 1,
   "id": "dabd10ad-b29b-4e28-bb93-8800aa0b92cf",
   "metadata": {},
   "outputs": [],
   "source": [
    "\n",
    "import torch\n",
    "import torch.nn.functional as F\n",
    "import matplotlib.pyplot as plt # for making figures\n",
    "%matplotlib inline"
   ]
  },
  {
   "cell_type": "code",
   "execution_count": 3,
   "id": "83ef8896-4b74-4d2e-902c-f3cf634e97df",
   "metadata": {},
   "outputs": [
    {
     "data": {
      "text/plain": [
       "['Toy Story',\n",
       " 'Jumanji',\n",
       " 'Grumpier Old Men',\n",
       " 'Waiting to Exhale',\n",
       " 'Father of the Bride Part II',\n",
       " 'Heat',\n",
       " 'Sabrina',\n",
       " 'Tom and Huck',\n",
       " 'Sudden Death',\n",
       " 'GoldenEye']"
      ]
     },
     "execution_count": 3,
     "metadata": {},
     "output_type": "execute_result"
    }
   ],
   "source": [
    "words = open('movies.txt', 'r', encoding='utf-8').read().splitlines()\n",
    "words[:10]"
   ]
  },
  {
   "cell_type": "code",
   "execution_count": 4,
   "id": "cf82933b-f5ca-4f0e-812c-b304913b3513",
   "metadata": {},
   "outputs": [
    {
     "data": {
      "text/plain": [
       "42259"
      ]
     },
     "execution_count": 4,
     "metadata": {},
     "output_type": "execute_result"
    }
   ],
   "source": [
    "len(words)\n"
   ]
  },
  {
   "cell_type": "code",
   "execution_count": 5,
   "id": "b95bf38c-ed39-455e-b1b8-43fe84e9de30",
   "metadata": {},
   "outputs": [
    {
     "name": "stdout",
     "output_type": "stream",
     "text": [
      "{1: ' ', 2: '!', 3: '\"', 4: '#', 5: '$', 6: '%', 7: '&', 8: \"'\", 9: '(', 10: ')', 11: '*', 12: '+', 13: ',', 14: '-', 0: '.', 16: '/', 17: '0', 18: '1', 19: '2', 20: '3', 21: '4', 22: '5', 23: '6', 24: '7', 25: '8', 26: '9', 27: ':', 28: ';', 29: '=', 30: '?', 31: '@', 32: 'A', 33: 'B', 34: 'C', 35: 'D', 36: 'E', 37: 'F', 38: 'G', 39: 'H', 40: 'I', 41: 'J', 42: 'K', 43: 'L', 44: 'M', 45: 'N', 46: 'O', 47: 'P', 48: 'Q', 49: 'R', 50: 'S', 51: 'T', 52: 'U', 53: 'V', 54: 'W', 55: 'X', 56: 'Y', 57: 'Z', 58: '[', 59: ']', 60: '_', 61: 'a', 62: 'b', 63: 'c', 64: 'd', 65: 'e', 66: 'f', 67: 'g', 68: 'h', 69: 'i', 70: 'j', 71: 'k', 72: 'l', 73: 'm', 74: 'n', 75: 'o', 76: 'p', 77: 'q', 78: 'r', 79: 's', 80: 't', 81: 'u', 82: 'v', 83: 'w', 84: 'x', 85: 'y', 86: 'z', 87: '¡', 88: '¢', 89: '£', 90: 'ª', 91: '°', 92: '²', 93: '³', 94: '·', 95: '½', 96: '¿', 97: 'À', 98: 'Á', 99: 'Â', 100: 'Å', 101: 'Æ', 102: 'Ç', 103: 'È', 104: 'É', 105: 'Ö', 106: '×', 107: 'Ú', 108: 'Ü', 109: 'ß', 110: 'à', 111: 'á', 112: 'â', 113: 'ã', 114: 'ä', 115: 'å', 116: 'æ', 117: 'ç', 118: 'è', 119: 'é', 120: 'ê', 121: 'ë', 122: 'ì', 123: 'í', 124: 'î', 125: 'ï', 126: 'ð', 127: 'ñ', 128: 'ò', 129: 'ó', 130: 'ô', 131: 'õ', 132: 'ö', 133: 'ø', 134: 'ù', 135: 'ú', 136: 'û', 137: 'ü', 138: 'ā', 139: 'ą', 140: 'Ć', 141: 'ć', 142: 'ē', 143: 'ę', 144: 'ě', 145: 'ğ', 146: 'İ', 147: 'ı', 148: 'ł', 149: 'ń', 150: 'ņ', 151: 'œ', 152: 'ś', 153: 'Ş', 154: 'ş', 155: 'Š', 156: 'š', 157: 'ū', 158: 'ů', 159: 'ż', 160: 'Ž', 161: 'ž', 162: 'Α', 163: 'Β', 164: 'Γ', 165: 'Δ', 166: 'Θ', 167: 'Κ', 168: 'Λ', 169: 'Μ', 170: 'Ν', 171: 'Ξ', 172: 'Ο', 173: 'Π', 174: 'Σ', 175: 'Τ', 176: 'Υ', 177: 'Φ', 178: 'ά', 179: 'έ', 180: 'ή', 181: 'ί', 182: 'α', 183: 'γ', 184: 'δ', 185: 'ε', 186: 'η', 187: 'ι', 188: 'κ', 189: 'λ', 190: 'μ', 191: 'ν', 192: 'ο', 193: 'π', 194: 'ρ', 195: 'ς', 196: 'σ', 197: 'τ', 198: 'υ', 199: 'φ', 200: 'χ', 201: 'ό', 202: 'ύ', 203: 'ώ', 204: 'І', 205: 'А', 206: 'В', 207: 'Г', 208: 'Д', 209: 'Е', 210: 'И', 211: 'К', 212: 'Л', 213: 'М', 214: 'О', 215: 'П', 216: 'С', 217: 'У', 218: 'Х', 219: 'Ш', 220: 'Ю', 221: 'а', 222: 'б', 223: 'в', 224: 'г', 225: 'д', 226: 'е', 227: 'з', 228: 'и', 229: 'й', 230: 'к', 231: 'л', 232: 'м', 233: 'н', 234: 'о', 235: 'п', 236: 'р', 237: 'с', 238: 'т', 239: 'у', 240: 'ф', 241: 'х', 242: 'ц', 243: 'ч', 244: 'ш', 245: 'щ', 246: 'ы', 247: 'ь', 248: 'э', 249: 'ю', 250: 'я', 251: 'ё', 252: 'ا', 253: 'ج', 254: 'س', 255: 'ه', 256: 'چ', 257: 'ک', 258: 'ی', 259: '\\u200e', 260: '–', 261: '‘', 262: '’', 263: '“', 264: '”', 265: '…', 266: '⁴', 267: '№', 268: '™', 269: '⅓', 270: '→', 271: '−', 272: '∞', 273: '☆', 274: '♡', 275: 'ァ', 276: 'ィ', 277: 'ス', 278: 'タ', 279: 'テ', 280: 'フ', 281: 'ポ', 282: 'ン', 283: '傳', 284: '時', 285: '狗', 286: '空', 287: '貓'}\n"
     ]
    }
   ],
   "source": [
    "# build the vocabulary of characters and mappings to/from integers\n",
    "chars = sorted(list(set(''.join(words))))\n",
    "stoi = {s:i+1 for i,s in enumerate(chars)}\n",
    "stoi['.'] = 0\n",
    "itos = {i:s for s,i in stoi.items()}\n",
    "print(itos)"
   ]
  },
  {
   "cell_type": "code",
   "execution_count": 6,
   "id": "535503d8-9172-4a1c-a60f-1e01bd6d6558",
   "metadata": {},
   "outputs": [],
   "source": [
    "import unicodedata\n",
    "import re\n",
    "\n",
    "def clean(word):\n",
    "    word = unicodedata.normalize('NFKD', word)\n",
    "    word = word.lower()\n",
    "    # Keep lowercase letters, digits, spaces, apostrophes, hyphens\n",
    "    word = re.sub(r\"[^a-z0-9 '\\-]\", '', word)\n",
    "    return word.strip()"
   ]
  },
  {
   "cell_type": "code",
   "execution_count": 7,
   "id": "e769b6e4-ee0d-4d6a-b79e-0252bd2a055e",
   "metadata": {},
   "outputs": [
    {
     "name": "stdout",
     "output_type": "stream",
     "text": [
      "[' ', '!', '\"', '#', '$', '%', '&', \"'\", '(', ')', '*', '+', ',', '-', '.', '/', '0', '1', '2', '3', '4', '5', '6', '7', '8', '9', ':', ';', '=', '?', '@', 'A', 'B', 'C', 'D', 'E', 'F', 'G', 'H', 'I', 'J', 'K', 'L', 'M', 'N', 'O', 'P', 'Q', 'R', 'S', 'T', 'U', 'V', 'W', 'X', 'Y', 'Z', '[', ']', '_', 'a', 'b', 'c', 'd', 'e', 'f', 'g', 'h', 'i', 'j', 'k', 'l', 'm', 'n', 'o', 'p', 'q', 'r', 's', 't', 'u', 'v', 'w', 'x', 'y', 'z', '¡', '¢', '£', 'ª', '°', '²', '³', '·', '½', '¿', 'À', 'Á', 'Â', 'Å', 'Æ', 'Ç', 'È', 'É', 'Ö', '×', 'Ú', 'Ü', 'ß', 'à', 'á', 'â', 'ã', 'ä', 'å', 'æ', 'ç', 'è', 'é', 'ê', 'ë', 'ì', 'í', 'î', 'ï', 'ð', 'ñ', 'ò', 'ó', 'ô', 'õ', 'ö', 'ø', 'ù', 'ú', 'û', 'ü', 'ā', 'ą', 'Ć', 'ć', 'ē', 'ę', 'ě', 'ğ', 'İ', 'ı', 'ł', 'ń', 'ņ', 'œ', 'ś', 'Ş', 'ş', 'Š', 'š', 'ū', 'ů', 'ż', 'Ž', 'ž', 'Α', 'Β', 'Γ', 'Δ', 'Θ', 'Κ', 'Λ', 'Μ', 'Ν', 'Ξ', 'Ο', 'Π', 'Σ', 'Τ', 'Υ', 'Φ', 'ά', 'έ', 'ή', 'ί', 'α', 'γ', 'δ', 'ε', 'η', 'ι', 'κ', 'λ', 'μ', 'ν', 'ο', 'π', 'ρ', 'ς', 'σ', 'τ', 'υ', 'φ', 'χ', 'ό', 'ύ', 'ώ', 'І', 'А', 'В', 'Г', 'Д', 'Е', 'И', 'К', 'Л', 'М', 'О', 'П', 'С', 'У', 'Х', 'Ш', 'Ю', 'а', 'б', 'в', 'г', 'д', 'е', 'з', 'и', 'й', 'к', 'л', 'м', 'н', 'о', 'п', 'р', 'с', 'т', 'у', 'ф', 'х', 'ц', 'ч', 'ш', 'щ', 'ы', 'ь', 'э', 'ю', 'я', 'ё', 'ا', 'ج', 'س', 'ه', 'چ', 'ک', 'ی', '\\u200e', '–', '‘', '’', '“', '”', '…', '⁴', '№', '™', '⅓', '→', '−', '∞', '☆', '♡', 'ァ', 'ィ', 'ス', 'タ', 'テ', 'フ', 'ポ', 'ン', '傳', '時', '狗', '空', '貓']\n"
     ]
    }
   ],
   "source": [
    "chars = sorted(list(set(''.join(words))))\n",
    "print(chars)"
   ]
  },
  {
   "cell_type": "code",
   "execution_count": 8,
   "id": "208c28bb-f4e1-4308-bf70-6fe39beb6ee8",
   "metadata": {},
   "outputs": [],
   "source": [
    "# cleaned_words = [clean(w) for w in words if w.strip() != '']\n",
    "cleaned_words = [clean(w) for w in words if clean(w).strip() != '']"
   ]
  },
  {
   "cell_type": "code",
   "execution_count": 9,
   "id": "24277cd1-0891-4a67-a9ea-06ec259b9019",
   "metadata": {},
   "outputs": [],
   "source": [
    "chars = sorted(list(set(''.join(cleaned_words))))"
   ]
  },
  {
   "cell_type": "code",
   "execution_count": 10,
   "id": "4578cc0e-3a35-498c-810e-5dc7836bd3dd",
   "metadata": {},
   "outputs": [
    {
     "data": {
      "text/plain": [
       "[' ',\n",
       " \"'\",\n",
       " '-',\n",
       " '0',\n",
       " '1',\n",
       " '2',\n",
       " '3',\n",
       " '4',\n",
       " '5',\n",
       " '6',\n",
       " '7',\n",
       " '8',\n",
       " '9',\n",
       " 'a',\n",
       " 'b',\n",
       " 'c',\n",
       " 'd',\n",
       " 'e',\n",
       " 'f',\n",
       " 'g',\n",
       " 'h',\n",
       " 'i',\n",
       " 'j',\n",
       " 'k',\n",
       " 'l',\n",
       " 'm',\n",
       " 'n',\n",
       " 'o',\n",
       " 'p',\n",
       " 'q',\n",
       " 'r',\n",
       " 's',\n",
       " 't',\n",
       " 'u',\n",
       " 'v',\n",
       " 'w',\n",
       " 'x',\n",
       " 'y',\n",
       " 'z']"
      ]
     },
     "execution_count": 10,
     "metadata": {},
     "output_type": "execute_result"
    }
   ],
   "source": [
    "chars"
   ]
  },
  {
   "cell_type": "code",
   "execution_count": 11,
   "id": "d564b779-0138-4887-b9bb-1e001dbff8c5",
   "metadata": {},
   "outputs": [],
   "source": [
    "chars = sorted(list(set(''.join(cleaned_words))))\n",
    "stoi = {s:i+1 for i,s in enumerate(chars)}\n",
    "stoi['.'] = 0\n",
    "itos = {i:s for s,i in stoi.items()}"
   ]
  },
  {
   "cell_type": "code",
   "execution_count": 12,
   "id": "9daa2c72-a041-4ff7-a6e3-97bd050aa515",
   "metadata": {},
   "outputs": [
    {
     "data": {
      "text/plain": [
       "{' ': 1,\n",
       " \"'\": 2,\n",
       " '-': 3,\n",
       " '0': 4,\n",
       " '1': 5,\n",
       " '2': 6,\n",
       " '3': 7,\n",
       " '4': 8,\n",
       " '5': 9,\n",
       " '6': 10,\n",
       " '7': 11,\n",
       " '8': 12,\n",
       " '9': 13,\n",
       " 'a': 14,\n",
       " 'b': 15,\n",
       " 'c': 16,\n",
       " 'd': 17,\n",
       " 'e': 18,\n",
       " 'f': 19,\n",
       " 'g': 20,\n",
       " 'h': 21,\n",
       " 'i': 22,\n",
       " 'j': 23,\n",
       " 'k': 24,\n",
       " 'l': 25,\n",
       " 'm': 26,\n",
       " 'n': 27,\n",
       " 'o': 28,\n",
       " 'p': 29,\n",
       " 'q': 30,\n",
       " 'r': 31,\n",
       " 's': 32,\n",
       " 't': 33,\n",
       " 'u': 34,\n",
       " 'v': 35,\n",
       " 'w': 36,\n",
       " 'x': 37,\n",
       " 'y': 38,\n",
       " 'z': 39,\n",
       " '.': 0}"
      ]
     },
     "execution_count": 12,
     "metadata": {},
     "output_type": "execute_result"
    }
   ],
   "source": [
    "stoi"
   ]
  },
  {
   "cell_type": "code",
   "execution_count": 15,
   "id": "ad3b4ca2-dc01-4194-a9f4-9e5f377f011c",
   "metadata": {},
   "outputs": [
    {
     "name": "stdout",
     "output_type": "stream",
     "text": [
      "torch.Size([607647, 3]) torch.Size([607647])\n",
      "torch.Size([74982, 3]) torch.Size([74982])\n",
      "torch.Size([74922, 3]) torch.Size([74922])\n"
     ]
    }
   ],
   "source": [
    "# build the dataset\n",
    "block_size = 3 # context length: how many characters do we take to predict the next one?\n",
    "\n",
    "def build_dataset(cleaned_words):  \n",
    "  X, Y = [], []\n",
    "  for w in cleaned_words:\n",
    "\n",
    "    #print(w)\n",
    "    context = [0] * block_size\n",
    "    for ch in w + '.':\n",
    "      ix = stoi[ch]\n",
    "      X.append(context)\n",
    "      Y.append(ix)\n",
    "      #print(''.join(itos[i] for i in context), '--->', itos[ix])\n",
    "      context = context[1:] + [ix] # crop and append\n",
    "\n",
    "  X = torch.tensor(X)\n",
    "  Y = torch.tensor(Y)\n",
    "  print(X.shape, Y.shape)\n",
    "  return X, Y\n",
    "\n",
    "import random\n",
    "random.seed(42)\n",
    "random.shuffle(cleaned_words)\n",
    "n1 = int(0.8*len(cleaned_words))\n",
    "n2 = int(0.9*len(cleaned_words))\n",
    "\n",
    "Xtr, Ytr = build_dataset(cleaned_words[:n1])\n",
    "Xdev, Ydev = build_dataset(cleaned_words[n1:n2])\n",
    "Xte, Yte = build_dataset(cleaned_words[n2:])"
   ]
  },
  {
   "cell_type": "code",
   "execution_count": 16,
   "id": "cf3a0154-78c8-4da5-9672-fd4b9ea5d015",
   "metadata": {},
   "outputs": [
    {
     "data": {
      "text/plain": [
       "39"
      ]
     },
     "execution_count": 16,
     "metadata": {},
     "output_type": "execute_result"
    }
   ],
   "source": [
    "len(chars)"
   ]
  },
  {
   "cell_type": "code",
   "execution_count": 17,
   "id": "216635b2-00a0-456b-9d73-e59b5da62059",
   "metadata": {},
   "outputs": [],
   "source": [
    "C = torch.randn((40, 2))"
   ]
  },
  {
   "cell_type": "code",
   "execution_count": 18,
   "id": "0ecf4cd9-0cda-4f3d-a8db-78981adc7f4b",
   "metadata": {},
   "outputs": [
    {
     "ename": "NameError",
     "evalue": "name 'X' is not defined",
     "output_type": "error",
     "traceback": [
      "\u001b[1;31m---------------------------------------------------------------------------\u001b[0m",
      "\u001b[1;31mNameError\u001b[0m                                 Traceback (most recent call last)",
      "Cell \u001b[1;32mIn[18], line 1\u001b[0m\n\u001b[1;32m----> 1\u001b[0m emb \u001b[38;5;241m=\u001b[39m C[\u001b[43mX\u001b[49m]\n\u001b[0;32m      2\u001b[0m emb\u001b[38;5;241m.\u001b[39mshape\n",
      "\u001b[1;31mNameError\u001b[0m: name 'X' is not defined"
     ]
    }
   ],
   "source": [
    "emb = C[X]\n",
    "emb.shape"
   ]
  },
  {
   "cell_type": "code",
   "execution_count": 19,
   "id": "c0217068-1074-49ea-8204-20c75d3c9c8b",
   "metadata": {},
   "outputs": [
    {
     "data": {
      "text/plain": [
       "(torch.Size([607647, 3]), torch.Size([607647]))"
      ]
     },
     "execution_count": 19,
     "metadata": {},
     "output_type": "execute_result"
    }
   ],
   "source": [
    "Xtr.shape, Ytr.shape # dataset"
   ]
  },
  {
   "cell_type": "code",
   "execution_count": 20,
   "id": "71d3f53d-9d78-4134-973e-0cf6e16b8e59",
   "metadata": {},
   "outputs": [],
   "source": [
    "g = torch.Generator().manual_seed(2147483647) # for reproducibility\n",
    "C = torch.randn((40, 10), generator=g)\n",
    "W1 = torch.randn((30, 200), generator=g)\n",
    "b1 = torch.randn(200, generator=g)\n",
    "W2 = torch.randn((200, 40), generator=g)\n",
    "b2 = torch.randn(40, generator=g)\n",
    "parameters = [C, W1, b1, W2, b2]"
   ]
  },
  {
   "cell_type": "code",
   "execution_count": 21,
   "id": "f66fb4e2-4266-4d72-b4d6-11e90980098a",
   "metadata": {},
   "outputs": [
    {
     "data": {
      "text/plain": [
       "14640"
      ]
     },
     "execution_count": 21,
     "metadata": {},
     "output_type": "execute_result"
    }
   ],
   "source": [
    "sum(p.nelement() for p in parameters) # number of parameters in total\n"
   ]
  },
  {
   "cell_type": "code",
   "execution_count": 22,
   "id": "329afbc4-7960-4404-837e-4cf2c90eaf80",
   "metadata": {},
   "outputs": [],
   "source": [
    "for p in parameters:\n",
    "  p.requires_grad = True"
   ]
  },
  {
   "cell_type": "code",
   "execution_count": 23,
   "id": "470244ae-9e37-4c80-b1c1-e94eaa8f3c78",
   "metadata": {},
   "outputs": [],
   "source": [
    "lri = []\n",
    "lossi = []\n",
    "stepi = []"
   ]
  },
  {
   "cell_type": "code",
   "execution_count": 24,
   "id": "81ff23cd-7904-47c1-87f5-664acb6093a6",
   "metadata": {},
   "outputs": [],
   "source": [
    "for i in range(200000):\n",
    "  \n",
    "  # minibatch construct\n",
    "  ix = torch.randint(0, Xtr.shape[0], (32,))\n",
    "  \n",
    "  # forward pass\n",
    "  emb = C[Xtr[ix]] # (32, 3, 10)\n",
    "  h = torch.tanh(emb.view(-1, 30) @ W1 + b1) # (32, 200)\n",
    "  logits = h @ W2 + b2 # (32, 40)\n",
    "  loss = F.cross_entropy(logits, Ytr[ix])\n",
    "  #print(loss.item())\n",
    "  \n",
    "  # backward pass\n",
    "  for p in parameters:\n",
    "    p.grad = None\n",
    "  loss.backward()\n",
    "  \n",
    "  # update\n",
    "  #lr = lrs[i]\n",
    "  lr = 0.1 if i < 100000 else 0.01\n",
    "  for p in parameters:\n",
    "    p.data += -lr * p.grad\n",
    "\n",
    "  # track stats\n",
    "  #lri.append(lre[i])\n",
    "  stepi.append(i)\n",
    "  lossi.append(loss.log10().item())"
   ]
  },
  {
   "cell_type": "code",
   "execution_count": 25,
   "id": "4a3e057b-8c5a-4449-a347-bc0256316e0b",
   "metadata": {},
   "outputs": [
    {
     "data": {
      "text/plain": [
       "[<matplotlib.lines.Line2D at 0x2569db5fa70>]"
      ]
     },
     "execution_count": 25,
     "metadata": {},
     "output_type": "execute_result"
    },
    {
     "data": {
      "image/png": "[encoded data removed]",
      "text/plain": [
       "<Figure size 640x480 with 1 Axes>"
      ]
     },
     "metadata": {},
     "output_type": "display_data"
    }
   ],
   "source": [
    "plt.plot(stepi, lossi)\n"
   ]
  },
  {
   "cell_type": "code",
   "execution_count": 26,
   "id": "86e32b3b-adcc-4b15-bd93-bbdc3f938bc0",
   "metadata": {},
   "outputs": [
    {
     "data": {
      "text/plain": [
       "tensor(2.1102, grad_fn=<NllLossBackward0>)"
      ]
     },
     "execution_count": 26,
     "metadata": {},
     "output_type": "execute_result"
    }
   ],
   "source": [
    "emb = C[Xtr] # (32, 3, 2)\n",
    "h = torch.tanh(emb.view(-1, 30) @ W1 + b1) # (32, 100)\n",
    "logits = h @ W2 + b2 # (32, 27)\n",
    "loss = F.cross_entropy(logits, Ytr)\n",
    "loss"
   ]
  },
  {
   "cell_type": "code",
   "execution_count": 27,
   "id": "45951da4-44a2-498b-87a7-0b09e27f91e8",
   "metadata": {},
   "outputs": [
    {
     "data": {
      "text/plain": [
       "torch.Size([607647, 3, 10])"
      ]
     },
     "execution_count": 27,
     "metadata": {},
     "output_type": "execute_result"
    }
   ],
   "source": [
    "emb.shape"
   ]
  },
  {
   "cell_type": "code",
   "execution_count": 28,
   "id": "96322e08-148f-44de-954b-c225e51c94d8",
   "metadata": {},
   "outputs": [
    {
     "data": {
      "text/plain": [
       "tensor(2.1273, grad_fn=<NllLossBackward0>)"
      ]
     },
     "execution_count": 28,
     "metadata": {},
     "output_type": "execute_result"
    }
   ],
   "source": [
    "emb = C[Xdev] # (32, 3, 2)\n",
    "h = torch.tanh(emb.view(-1, 30) @ W1 + b1) # (32, 100)\n",
    "logits = h @ W2 + b2 # (32, 27)\n",
    "loss = F.cross_entropy(logits, Ydev)\n",
    "loss"
   ]
  },
  {
   "cell_type": "code",
   "execution_count": 29,
   "id": "24968bbd-4f9f-4671-bfb7-09fc1ea33dbe",
   "metadata": {},
   "outputs": [
    {
     "data": {
      "image/png": "[encoded data removed]",
      "text/plain": [
       "<Figure size 800x800 with 1 Axes>"
      ]
     },
     "metadata": {},
     "output_type": "display_data"
    }
   ],
   "source": [
    "# visualize dimensions 0 and 1 of the embedding matrix C for all characters\n",
    "plt.figure(figsize=(8,8))\n",
    "plt.scatter(C[:,0].data, C[:,1].data, s=200)\n",
    "for i in range(C.shape[0]):\n",
    "    plt.text(C[i,0].item(), C[i,1].item(), itos[i], ha=\"center\", va=\"center\", color='white')\n",
    "plt.grid('minor')"
   ]
  },
  {
   "cell_type": "code",
   "execution_count": 30,
   "id": "12b66968-bb6c-46d8-a889-1911d2d44080",
   "metadata": {},
   "outputs": [
    {
     "data": {
      "text/plain": [
       "torch.Size([1, 3, 10])"
      ]
     },
     "execution_count": 30,
     "metadata": {},
     "output_type": "execute_result"
    }
   ],
   "source": [
    "context = [0] * block_size\n",
    "C[torch.tensor([context])].shape"
   ]
  },
  {
   "cell_type": "code",
   "execution_count": 31,
   "id": "145ea6fc-3bf3-4883-b10a-79c979711659",
   "metadata": {},
   "outputs": [
    {
     "name": "stdout",
     "output_type": "stream",
     "text": [
      "ter is lammers.\n",
      "iat.\n",
      "al chrisies.\n",
      "bace nuppiress.\n",
      "grobbawcy cher the dack end the mise talf thieft melling.\n",
      "rub.\n",
      "allywants worher.\n",
      "like.\n",
      "planhem 43.\n",
      "the of sal onel an noveshall rovie and get.\n",
      "afiant my beckeddakon.\n",
      "clancret the glatian poon.\n",
      "redero.\n",
      "the of the prey flight.\n",
      "sund for gythis friest.\n",
      "on tew cossin.\n",
      "k brot no the sporgasinhpt my.\n",
      "vatchilesd.\n",
      "stateck sab gellock stone in the retule.\n",
      "the bellarixnajbert.\n"
     ]
    }
   ],
   "source": [
    "# sample from the model\n",
    "g = torch.Generator().manual_seed(2147483647 + 10)\n",
    "\n",
    "for _ in range(20):\n",
    "    \n",
    "    out = []\n",
    "    context = [0] * block_size # initialize with all ...\n",
    "    while True:\n",
    "      emb = C[torch.tensor([context])] # (1,block_size,d)\n",
    "      h = torch.tanh(emb.view(1, -1) @ W1 + b1)\n",
    "      logits = h @ W2 + b2\n",
    "      probs = F.softmax(logits, dim=1)\n",
    "      ix = torch.multinomial(probs, num_samples=1, generator=g).item()\n",
    "      context = context[1:] + [ix]\n",
    "      out.append(ix)\n",
    "      if ix == 0:\n",
    "        break\n",
    "    \n",
    "    print(''.join(itos[i] for i in out))"
   ]
  },
  {
   "cell_type": "code",
   "execution_count": null,
   "id": "1dd9456a-748a-43fc-bf6f-171f8dfcc271",
   "metadata": {},
   "outputs": [],
   "source": []
  }
 ],
 "metadata": {
  "kernelspec": {
   "display_name": "Python 3 (ipykernel)",
   "language": "python",
   "name": "python3"
  },
  "language_info": {
   "codemirror_mode": {
    "name": "ipython",
    "version": 3
   },
   "file_extension": ".py",
   "mimetype": "text/x-python",
   "name": "python",
   "nbconvert_exporter": "python",
   "pygments_lexer": "ipython3",
   "version": "3.12.0"
  }
 },
 "nbformat": 4,
 "nbformat_minor": 5
}
